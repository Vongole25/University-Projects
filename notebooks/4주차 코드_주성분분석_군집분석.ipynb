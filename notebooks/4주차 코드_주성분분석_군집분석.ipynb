{
 "cells": [
  {
   "cell_type": "markdown",
   "id": "29d7f042",
   "metadata": {},
   "source": [
    "# 모듈 다운로드"
   ]
  },
  {
   "cell_type": "code",
   "execution_count": null,
   "id": "7c660c5b",
   "metadata": {},
   "outputs": [],
   "source": [
    "import pandas as pd"
   ]
  },
  {
   "cell_type": "code",
   "execution_count": null,
   "id": "d181bb2b",
   "metadata": {},
   "outputs": [],
   "source": [
    "import numpy as np"
   ]
  },
  {
   "cell_type": "code",
   "execution_count": null,
   "id": "784ebc37",
   "metadata": {},
   "outputs": [],
   "source": [
    "import seaborn as sns"
   ]
  },
  {
   "cell_type": "code",
   "execution_count": null,
   "id": "ffbb13c5",
   "metadata": {},
   "outputs": [],
   "source": [
    "!pip install factor_analyzer"
   ]
  },
  {
   "cell_type": "code",
   "execution_count": null,
   "id": "a4311cbc",
   "metadata": {},
   "outputs": [],
   "source": [
    "from sklearn.decomposition import PCA\n",
    "from factor_analyzer import Rotator"
   ]
  },
  {
   "cell_type": "code",
   "execution_count": null,
   "id": "f24848c2",
   "metadata": {},
   "outputs": [],
   "source": [
    "from sklearn.preprocessing import StandardScaler"
   ]
  },
  {
   "cell_type": "code",
   "execution_count": null,
   "id": "da08bf45",
   "metadata": {},
   "outputs": [],
   "source": [
    "import matplotlib.pyplot as plt"
   ]
  },
  {
   "cell_type": "markdown",
   "id": "11b729b8",
   "metadata": {},
   "source": [
    "# 데이터 불러오기"
   ]
  },
  {
   "cell_type": "code",
   "execution_count": null,
   "id": "7ebc8dde",
   "metadata": {},
   "outputs": [],
   "source": [
    "mac_path = \"/Users/sunjaelee/Library/CloudStorage/Dropbox/교과/다차원자료분석PBL/기말고사/데이터/final_data.csv\"\n",
    "window_path = \"C:/Users/cbskust/Dropbox/교과/다차원자료분석PBL/기말고사/데이터/final_data.csv\""
   ]
  },
  {
   "cell_type": "code",
   "execution_count": null,
   "id": "b75eff55",
   "metadata": {},
   "outputs": [],
   "source": [
    "data = pd.read_csv(mac_path)"
   ]
  },
  {
   "cell_type": "markdown",
   "id": "72c47390",
   "metadata": {},
   "source": [
    "## 변수명 변경"
   ]
  },
  {
   "cell_type": "code",
   "execution_count": null,
   "id": "e8f6ce64",
   "metadata": {},
   "outputs": [],
   "source": [
    "data.rename(columns = {\"EDUCATION_EFFECT\": \"SCHOOL_EFFECT\",\n",
    "                      \"BUILDING_PCA_SCORE\" : \"BUILDING\",\n",
    "                      \"ECONOMY_PCA_SCORE\" : \"ECONOMY\",\n",
    "                      \"POP_PCA_SCORE\" : \"POP\"}, inplace = True)"
   ]
  },
  {
   "cell_type": "code",
   "execution_count": null,
   "id": "0ef88590",
   "metadata": {},
   "outputs": [],
   "source": [
    "data.columns"
   ]
  },
  {
   "cell_type": "markdown",
   "id": "4eec405f",
   "metadata": {},
   "source": [
    "## 주성분분석에 쓸 변수 선택"
   ]
  },
  {
   "cell_type": "code",
   "execution_count": null,
   "id": "9754771b",
   "metadata": {},
   "outputs": [],
   "source": [
    "selected_columns = [\"OLD_IDX\", \"BIGROAD_EFFECT\", \"ROAD_EFFECT\", \"BUS_EFFECT\", \"ACADEMY\", \"HOSPITAL\", \"BANK\", \n",
    "    \"MART_DEPARTMENT\", \"SECURITY\", \"HARMFUL_FACILITY_EFFECT\", \"SCHOOL_EFFECT\", \n",
    "    \"POP\", \"ECONOMY\", \"BUILDING\"]"
   ]
  },
  {
   "cell_type": "code",
   "execution_count": null,
   "id": "d019a6ac",
   "metadata": {},
   "outputs": [],
   "source": [
    "selected_data = data[selected_columns]"
   ]
  },
  {
   "cell_type": "markdown",
   "id": "90c20ad4",
   "metadata": {},
   "source": [
    "## 스케일링"
   ]
  },
  {
   "cell_type": "code",
   "execution_count": null,
   "id": "6760558c",
   "metadata": {},
   "outputs": [],
   "source": [
    "scaler = StandardScaler()"
   ]
  },
  {
   "cell_type": "code",
   "execution_count": null,
   "id": "4cae7fb7",
   "metadata": {},
   "outputs": [],
   "source": [
    "data_scaled = scaler.fit_transform(selected_data)"
   ]
  },
  {
   "cell_type": "markdown",
   "id": "d0222060",
   "metadata": {},
   "source": [
    "# 주성분분석"
   ]
  },
  {
   "cell_type": "code",
   "execution_count": null,
   "id": "831edbde",
   "metadata": {},
   "outputs": [],
   "source": [
    "# PCA 수행\n",
    "pca = PCA()\n",
    "pca_result = pca.fit_transform(data_scaled)"
   ]
  },
  {
   "cell_type": "markdown",
   "id": "ca38be30",
   "metadata": {},
   "source": [
    "## 주성분 개수 선정"
   ]
  },
  {
   "cell_type": "code",
   "execution_count": null,
   "id": "802d4898",
   "metadata": {},
   "outputs": [],
   "source": [
    "pca.explained_variance_"
   ]
  },
  {
   "cell_type": "code",
   "execution_count": null,
   "id": "9377c59e",
   "metadata": {},
   "outputs": [],
   "source": [
    "# 설명된 분산 비율과 누적 설명된 분산 비율 계산\n",
    "explained_variance_ratio = pca.explained_variance_ratio_\n",
    "cumulative_explained_variance = explained_variance_ratio.cumsum()\n",
    "\n",
    "# Scree Plot과 누적 설명된 분산 비율 Plot\n",
    "plt.figure(figsize=(12, 6))\n",
    "\n",
    "# Scree Plot\n",
    "plt.subplot(1, 2, 1)\n",
    "plt.plot(range(1, len(explained_variance_ratio) + 1), explained_variance_ratio, marker='o', linestyle='--')\n",
    "plt.title('Scree Plot')\n",
    "plt.xlabel('Principal Component')\n",
    "plt.ylabel('Variance Explained')\n",
    "plt.xticks(range(1, len(explained_variance_ratio) + 1))\n",
    "plt.grid(True)\n",
    "\n",
    "# Cumulative Explained Variance Plot\n",
    "plt.subplot(1, 2, 2)\n",
    "plt.plot(range(1, len(cumulative_explained_variance) + 1), cumulative_explained_variance, marker='o', linestyle='--', color='r')\n",
    "plt.title('Cumulative Explained Variance')\n",
    "plt.xlabel('Number of Principal Components')\n",
    "plt.ylabel('Cumulative Variance Explained')\n",
    "plt.xticks(range(1, len(cumulative_explained_variance) + 1))\n",
    "plt.grid(True)\n",
    "\n",
    "plt.tight_layout()\n",
    "plt.show()\n",
    "\n",
    "# 설명된 분산 비율과 누적 설명된 분산 비율 출력\n",
    "print(\"Explained Variance Ratio:\", explained_variance_ratio)\n",
    "print(\"Cumulative Explained Variance:\", cumulative_explained_variance)"
   ]
  },
  {
   "cell_type": "markdown",
   "id": "14ee3d9f",
   "metadata": {},
   "source": [
    "## 6개의 주성분으로 주성분분석(rotate 결과 포함)"
   ]
  },
  {
   "cell_type": "code",
   "execution_count": null,
   "id": "ab3ce8d1",
   "metadata": {},
   "outputs": [],
   "source": [
    "pca = PCA(n_components = 6)\n",
    "pca_result = pca.fit_transform(data_scaled)\n",
    "loadings = pca.components_.T\n",
    "\n",
    "# 로딩 행렬을 데이터프레임으로 변환\n",
    "loading_matrix = pd.DataFrame(loadings, columns=[f'PC{i+1}' for i in range(6)], index = selected_columns)\n",
    "\n",
    "# Varimax 회전 적용\n",
    "rotator = Rotator(method='varimax')\n",
    "rotated_loadings = rotator.fit_transform(loading_matrix.values)\n",
    "\n",
    "# 회전된 로딩 행렬을 데이터프레임으로 변환\n",
    "rotated_loading_matrix = pd.DataFrame(rotated_loadings, columns=[f'PC{i+1}' for i in range(6)], index = selected_columns)\n",
    "\n",
    "# 결과 출력\n",
    "print(\"Original Loadings:\")\n",
    "print(loading_matrix)\n",
    "print(\"\\nRotated Loadings (Varimax):\")\n",
    "print(rotated_loading_matrix)"
   ]
  },
  {
   "cell_type": "code",
   "execution_count": null,
   "id": "3bf698c3",
   "metadata": {},
   "outputs": [],
   "source": [
    "rotated_loading_matrix.index"
   ]
  },
  {
   "cell_type": "code",
   "execution_count": null,
   "id": "fc085f79",
   "metadata": {},
   "outputs": [],
   "source": [
    "new_order = [\"HOSPITAL\", \"BANK\", \"ECONOMY\",\n",
    "            \"OLD_IDX\", \"BUILDING\",\n",
    "            \"ROAD_EFFECT\", \"BUS_EFFECT\",\n",
    "            \"ACADEMY\", \"POP\",\n",
    "            \"BIGROAD_EFFECT\", \"MART_DEPARTMENT\", \"HARMFUL_FACILITY_EFFECT\",\n",
    "            \"SCHOOL_EFFECT\", \"SECURITY\"]"
   ]
  },
  {
   "cell_type": "code",
   "execution_count": null,
   "id": "0e9754bc",
   "metadata": {},
   "outputs": [],
   "source": [
    "my_loadings = rotated_loading_matrix.loc[new_order]"
   ]
  },
  {
   "cell_type": "code",
   "execution_count": null,
   "id": "148a15d6",
   "metadata": {},
   "outputs": [],
   "source": [
    "my_loadings"
   ]
  },
  {
   "cell_type": "markdown",
   "id": "5162f06d",
   "metadata": {},
   "source": [
    "## 주성분 loadings 시각화"
   ]
  },
  {
   "cell_type": "code",
   "execution_count": null,
   "id": "b8ad4b5b",
   "metadata": {},
   "outputs": [],
   "source": [
    "# 로딩값 히트맵 시각화\n",
    "plt.figure(figsize=(15, 15))\n",
    "sns.heatmap(loading_matrix, annot=True, fmt=\".2f\", cmap='coolwarm', center=0,\n",
    "    annot_kws={\"size\": 12})\n",
    "plt.title('PCA Loadings Heatmap')\n",
    "plt.xlabel('Principal Components')\n",
    "plt.ylabel('Features')\n",
    "plt.savefig('pca_loadings_heatmap.png', dpi=300, bbox_inches='tight')\n",
    "\n",
    "plt.show()"
   ]
  },
  {
   "cell_type": "code",
   "execution_count": null,
   "id": "d19a427d",
   "metadata": {},
   "outputs": [],
   "source": [
    "# 로딩값 히트맵 시각화\n",
    "plt.figure(figsize=(15, 15))\n",
    "sns.heatmap(my_loadings, annot=True, fmt=\".2f\", cmap='coolwarm', center=0,\n",
    "    annot_kws={\"size\": 12})\n",
    "plt.title('PCA Loadings Heatmap')\n",
    "plt.xlabel('Principal Components')\n",
    "plt.ylabel('Features')\n",
    "plt.savefig('pca_loadings_heatmap.png', dpi=300, bbox_inches='tight')\n",
    "\n",
    "plt.show()"
   ]
  },
  {
   "cell_type": "markdown",
   "id": "3ad1cc00",
   "metadata": {},
   "source": [
    "## 주성분점수 붙인 데이터 만들기"
   ]
  },
  {
   "cell_type": "code",
   "execution_count": null,
   "id": "320595a1",
   "metadata": {},
   "outputs": [],
   "source": [
    "pca_result"
   ]
  },
  {
   "cell_type": "code",
   "execution_count": null,
   "id": "06efff0f",
   "metadata": {},
   "outputs": [],
   "source": [
    "# 주성분 점수를 데이터프레임으로 변환\n",
    "principal_df = pd.DataFrame(data=pca_result, columns=[f'PC{i+1}' for i in range(6)])\n",
    "\n",
    "# 원래 데이터프레임에 주성분 점수 추가\n",
    "new_data = pd.concat([data, principal_df], axis=1)"
   ]
  },
  {
   "cell_type": "code",
   "execution_count": null,
   "id": "555a3f6b",
   "metadata": {},
   "outputs": [],
   "source": [
    "new_data"
   ]
  },
  {
   "cell_type": "code",
   "execution_count": null,
   "id": "9e8ddb9e",
   "metadata": {},
   "outputs": [],
   "source": [
    "new_data.drop(columns = ['OLD_IDX', 'BIGROAD_EFFECT', 'ROAD_EFFECT',\n",
    "       'BUS_EFFECT', 'ACADEMY', 'HOSPITAL', 'BANK', 'MART_DEPARTMENT',\n",
    "       'SECURITY', 'HARMFUL_FACILITY_EFFECT', 'SCHOOL_EFFECT', 'POP',\n",
    "       'ECONOMY', 'BUILDING', 'BIGROAD_N', 'ROAD_N', 'BUS_N'], inplace = True)"
   ]
  },
  {
   "cell_type": "code",
   "execution_count": null,
   "id": "a05735b5",
   "metadata": {},
   "outputs": [],
   "source": [
    "new_data.columns"
   ]
  },
  {
   "cell_type": "code",
   "execution_count": null,
   "id": "9fb548c6",
   "metadata": {},
   "outputs": [],
   "source": [
    "new_data"
   ]
  },
  {
   "cell_type": "markdown",
   "id": "64bc530b",
   "metadata": {},
   "source": [
    "## 주성분 이름 지어주기"
   ]
  },
  {
   "cell_type": "code",
   "execution_count": null,
   "id": "812a7ef9",
   "metadata": {},
   "outputs": [],
   "source": [
    "new_data.rename(columns = {\"PC1\": \"MEDICAL_ECONOMY\",\n",
    "                      \"PC2\" : \"BUILDING_SILVER\",\n",
    "                      \"PC3\" : \"TRANS\",\n",
    "                      \"PC4\" : \"POP_ACADEMY\",\n",
    "                      \"PC5\" : \"INFRA\",\n",
    "                      \"PC6\" : \"SCHOOL_SECURITY\"}, inplace = True)"
   ]
  },
  {
   "cell_type": "markdown",
   "id": "1c23f5c3",
   "metadata": {},
   "source": [
    "## 데이터 저장 "
   ]
  },
  {
   "cell_type": "code",
   "execution_count": null,
   "id": "d158ccd9",
   "metadata": {},
   "outputs": [],
   "source": [
    "new_data.to_csv(\"/Users/sunjaelee/Library/CloudStorage/Dropbox/교과/다차원자료분석PBL/기말고사/데이터/pca_data.csv\", index = False, encoding = 'utf-8-sig')"
   ]
  },
  {
   "cell_type": "markdown",
   "id": "4925c529",
   "metadata": {},
   "source": [
    "# 군집분석"
   ]
  },
  {
   "cell_type": "code",
   "execution_count": null,
   "id": "0e49df03",
   "metadata": {},
   "outputs": [],
   "source": [
    "from sklearn.cluster import KMeans"
   ]
  },
  {
   "cell_type": "code",
   "execution_count": null,
   "id": "a41537d0",
   "metadata": {},
   "outputs": [],
   "source": [
    "from sklearn.metrics import silhouette_score"
   ]
  },
  {
   "cell_type": "code",
   "execution_count": null,
   "id": "ec952a00",
   "metadata": {},
   "outputs": [],
   "source": [
    "clust_data = new_data[['MEDICAL_ECONOMY', 'BUILDING_SILVER', 'TRANS',\n",
    "                       'POP_ACADEMY', 'INFRA', 'SCHOOL_SECURITY']]"
   ]
  },
  {
   "cell_type": "markdown",
   "id": "a6800640",
   "metadata": {},
   "source": [
    "## 엘보우 방법을 통한 적절한 군집 개수 설정"
   ]
  },
  {
   "cell_type": "code",
   "execution_count": null,
   "id": "c414781f",
   "metadata": {},
   "outputs": [],
   "source": [
    "inertia = []\n",
    "K = range(1, 11)\n",
    "\n",
    "for k in K:\n",
    "    kmeans = KMeans(n_clusters=k, n_init = 10, random_state=715)\n",
    "    kmeans.fit(clust_data)\n",
    "    inertia.append(kmeans.inertia_)\n",
    "\n",
    "# 엘보우 방법 시각화\n",
    "plt.figure(figsize=(10, 6))\n",
    "plt.plot(K, inertia, 'bo-')\n",
    "plt.xlabel('Number of clusters')\n",
    "plt.ylabel('Inertia')\n",
    "plt.title('Elbow Method For Optimal k')\n",
    "plt.show()"
   ]
  },
  {
   "cell_type": "code",
   "execution_count": null,
   "id": "6dbb797f",
   "metadata": {},
   "outputs": [],
   "source": [
    "k = 3\n",
    "kmeans = KMeans(n_clusters=k, random_state=715)\n",
    "clusters = kmeans.fit_predict(clust_data)\n",
    "\n",
    "# 원래 데이터프레임에 군집 결과 추가\n",
    "new_data['CLUSTER'] = clusters\n",
    "\n",
    "# 군집화 결과 시각화 (PC1과 PC2 사용)\n",
    "plt.figure(figsize=(10, 8))\n",
    "sns.scatterplot(data=new_data, x='MEDICAL_ECONOMY', y='BUILDING_SILVER', hue='CLUSTER', palette='viridis', s=50)\n",
    "plt.scatter(kmeans.cluster_centers_[:, 0], kmeans.cluster_centers_[:, 1], s=200, c='red', marker='X')\n",
    "plt.xlabel('PC1')\n",
    "plt.ylabel('PC2')\n",
    "plt.title('K-means Clustering on PCA-transformed Data')\n",
    "plt.show()"
   ]
  },
  {
   "cell_type": "markdown",
   "id": "71b351d2",
   "metadata": {},
   "source": [
    "## 법정동 -> 행정동 변환"
   ]
  },
  {
   "cell_type": "code",
   "execution_count": null,
   "id": "2ee8d7f2",
   "metadata": {},
   "outputs": [],
   "source": [
    "new_data"
   ]
  },
  {
   "cell_type": "code",
   "execution_count": null,
   "id": "f1ecfc5f",
   "metadata": {},
   "outputs": [],
   "source": [
    "mac_path = \"/Users/sunjaelee/Library/CloudStorage/Dropbox/교과/다차원자료분석PBL/기말고사/데이터/KIKmix.20210401.xlsx\"\n",
    "window_path = \"C:/Users/cbskust/Dropbox/교과/다차원자료분석PBL/기말고사/데이터/KIKmix.20210401.xlsx\"\n",
    "change = pd.read_excel(mac_path)"
   ]
  },
  {
   "cell_type": "code",
   "execution_count": null,
   "id": "b2020393",
   "metadata": {},
   "outputs": [],
   "source": [
    "change = change.dropna()"
   ]
  },
  {
   "cell_type": "code",
   "execution_count": null,
   "id": "d40ecd3a",
   "metadata": {},
   "outputs": [],
   "source": [
    "change"
   ]
  },
  {
   "cell_type": "code",
   "execution_count": null,
   "id": "fe3179bb",
   "metadata": {},
   "outputs": [],
   "source": [
    "merged_data = pd.merge(new_data, change, left_on='DONG_CODE', right_on='법정동코드', how='left')"
   ]
  },
  {
   "cell_type": "code",
   "execution_count": null,
   "id": "cc9073c3",
   "metadata": {},
   "outputs": [],
   "source": [
    "merged_data.drop(columns = [\"시도명\", \"시군구명\", \"법정동코드\", \"동리명\", \"생성일자\"], inplace = True)"
   ]
  },
  {
   "cell_type": "code",
   "execution_count": null,
   "id": "c907e1fe",
   "metadata": {},
   "outputs": [],
   "source": [
    "merged_data"
   ]
  },
  {
   "cell_type": "code",
   "execution_count": null,
   "id": "af83f066",
   "metadata": {},
   "outputs": [],
   "source": [
    "merged_data[\"FULL_DONG_NAME\"] = \"서울특별시 \" + merged_data[\"SIGUNGU_NAME\"] + \" \" + merged_data[\"읍면동명\"]"
   ]
  },
  {
   "cell_type": "code",
   "execution_count": null,
   "id": "0f073e99",
   "metadata": {},
   "outputs": [],
   "source": [
    "merged_data"
   ]
  },
  {
   "cell_type": "code",
   "execution_count": null,
   "id": "8b1f6b04",
   "metadata": {},
   "outputs": [],
   "source": [
    "merged_data['FULL_DONG_NAME'] = merged_data['FULL_DONG_NAME'].str.replace('제', '')"
   ]
  },
  {
   "cell_type": "code",
   "execution_count": null,
   "id": "016ea6df",
   "metadata": {},
   "outputs": [],
   "source": [
    "grouped_df = merged_data.groupby('FULL_DONG_NAME')[['MEDICAL_ECONOMY', 'BUILDING_SILVER', 'TRANS',\n",
    "                       'POP_ACADEMY', 'INFRA', 'SCHOOL_SECURITY']].mean().reset_index()"
   ]
  },
  {
   "cell_type": "code",
   "execution_count": null,
   "id": "2a25aec8",
   "metadata": {},
   "outputs": [],
   "source": [
    "grouped_df"
   ]
  },
  {
   "cell_type": "code",
   "execution_count": null,
   "id": "88b5e71e",
   "metadata": {},
   "outputs": [],
   "source": [
    "# 적절한 군집 개수 찾기 (엘보우 방법)\n",
    "inertia = []\n",
    "silhouette_avg = []\n",
    "K = range(2, 11)\n",
    "\n",
    "for k in K:\n",
    "    kmeans = KMeans(n_clusters=k, n_init=10, random_state=715)\n",
    "    cluster_labels = kmeans.fit_predict(grouped_df[['MEDICAL_ECONOMY', 'BUILDING_SILVER', 'TRANS',\n",
    "                       'POP_ACADEMY', 'INFRA', 'SCHOOL_SECURITY']])\n",
    "    inertia.append(kmeans.inertia_)\n",
    "    silhouette_avg.append(silhouette_score(grouped_df[['MEDICAL_ECONOMY', 'BUILDING_SILVER', 'TRANS',\n",
    "                       'POP_ACADEMY', 'INFRA', 'SCHOOL_SECURITY']], cluster_labels))\n",
    "\n",
    "# 엘보우 방법 시각화\n",
    "plt.figure(figsize=(10, 6))\n",
    "plt.plot(K, inertia, 'bo-')\n",
    "plt.xlabel('Number of clusters')\n",
    "plt.ylabel('Inertia')\n",
    "plt.title('Elbow Method For Optimal k')\n",
    "plt.show()"
   ]
  },
  {
   "cell_type": "code",
   "execution_count": null,
   "id": "bc7a274a",
   "metadata": {},
   "outputs": [],
   "source": [
    "# 실루엣 점수 시각화\n",
    "plt.figure(figsize=(10, 6))\n",
    "plt.plot(K, silhouette_avg, 'bo-')\n",
    "plt.xlabel('Number of clusters')\n",
    "plt.ylabel('Silhouette Score')\n",
    "plt.title('Silhouette Analysis For Optimal k')\n",
    "plt.show()"
   ]
  },
  {
   "cell_type": "code",
   "execution_count": null,
   "id": "aad2fe58",
   "metadata": {},
   "outputs": [],
   "source": [
    "k = 4\n",
    "kmeans = KMeans(n_clusters=k, n_init=10, random_state=715)\n",
    "clusters = kmeans.fit_predict(grouped_df[['MEDICAL_ECONOMY', 'BUILDING_SILVER', 'TRANS',\n",
    "                       'POP_ACADEMY', 'INFRA', 'SCHOOL_SECURITY']])\n",
    "\n",
    "# 군집 결과를 그룹화된 데이터프레임에 추가\n",
    "grouped_df['Cluster'] = clusters\n",
    "\n",
    "# 군집화 결과 시각화 (PC1과 PC2 사용)\n",
    "plt.figure(figsize=(10, 8))\n",
    "sns.scatterplot(data=grouped_df, x='MEDICAL_ECONOMY', y='BUILDING_SILVER', hue='Cluster', palette='viridis', s=100)\n",
    "plt.scatter(kmeans.cluster_centers_[:, 0], kmeans.cluster_centers_[:, 1], s=300, c='red', marker='X')\n",
    "plt.xlabel('PC1')\n",
    "plt.ylabel('PC2')\n",
    "plt.title('K-means Clustering of Administrative Districts')\n",
    "plt.legend(title='Cluster')\n",
    "plt.show()\n",
    "\n",
    "# 결과 출력\n",
    "grouped_df.head()"
   ]
  },
  {
   "cell_type": "markdown",
   "id": "21d96c92",
   "metadata": {},
   "source": [
    "## 군집화 결과 시각화"
   ]
  },
  {
   "cell_type": "code",
   "execution_count": null,
   "id": "544fa22d",
   "metadata": {},
   "outputs": [],
   "source": [
    "import json \n",
    "import requests"
   ]
  },
  {
   "cell_type": "code",
   "execution_count": null,
   "id": "e77a56bd",
   "metadata": {},
   "outputs": [],
   "source": [
    "geo_path_mac = \"/Users/sunjaelee/Library/CloudStorage/Dropbox/교과/다차원자료분석PBL/기말고사/데이터/hangjeongdong_서울특별시.geojson\"\n",
    "geo_path_window = \"C:/Users/cbskust/Dropbox/교과/다차원자료분석PBL/기말고사/데이터/hangjeongdong_서울특별시.geojson\"\n",
    "geo_data = json.load(open(geo_path_mac, encoding = 'utf-8'))"
   ]
  },
  {
   "cell_type": "code",
   "execution_count": null,
   "id": "4946bcc6",
   "metadata": {},
   "outputs": [],
   "source": [
    "geo_data"
   ]
  },
  {
   "cell_type": "code",
   "execution_count": null,
   "id": "76a2a1a8",
   "metadata": {},
   "outputs": [],
   "source": [
    "grouped_df.loc[grouped_df['FULL_DONG_NAME'] == '서울특별시 서대문구 홍1동', 'FULL_DONG_NAME'] = '서울특별시 서대문구 홍제1동'\n",
    "grouped_df.loc[grouped_df['FULL_DONG_NAME'] == '서울특별시 서대문구 홍2동', 'FULL_DONG_NAME'] = '서울특별시 서대문구 홍제2동'\n",
    "grouped_df.loc[grouped_df['FULL_DONG_NAME'] == '서울특별시 서대문구 홍3동', 'FULL_DONG_NAME'] = '서울특별시 서대문구 홍제3동'\n",
    "grouped_df.loc[grouped_df['FULL_DONG_NAME'] == '서울특별시 종로구 종로1.2.3.4가동', 'FULL_DONG_NAME'] = '서울특별시 종로구 종로1·2·3·4가동'\n",
    "grouped_df.loc[grouped_df['FULL_DONG_NAME'] == '서울특별시 종로구 종로5.6가동', 'FULL_DONG_NAME'] = '서울특별시 종로구 종로5·6가동'\n",
    "grouped_df.loc[grouped_df['FULL_DONG_NAME'] == '서울특별시 성동구 금호2.3가동', 'FULL_DONG_NAME'] = '서울특별시 성동구 금호2·3가동'\n",
    "grouped_df.loc[grouped_df['FULL_DONG_NAME'] == '서울특별시 노원구 중계2.3동', 'FULL_DONG_NAME'] = '서울특별시 노원구 중계2·3동'\n",
    "grouped_df.loc[grouped_df['FULL_DONG_NAME'] == '서울특별시 노원구 상계6.7동', 'FULL_DONG_NAME'] = '서울특별시 노원구 상계6·7동'\n",
    "grouped_df.loc[grouped_df['FULL_DONG_NAME'] == '서울특별시 중랑구 면목3.8동', 'FULL_DONG_NAME'] = '서울특별시 중랑구 면목3·8동'\n",
    "grouped_df.loc[grouped_df['FULL_DONG_NAME'] == '서울특별시 노원구 상계3.4동', 'FULL_DONG_NAME'] = '서울특별시 노원구 상계3·4동'\n",
    "grouped_df.loc[grouped_df['FULL_DONG_NAME'] == '서울특별시 동대문구 기동', 'FULL_DONG_NAME'] = '서울특별시 동대문구 제기동'"
   ]
  },
  {
   "cell_type": "code",
   "execution_count": null,
   "id": "5dcdf618",
   "metadata": {},
   "outputs": [],
   "source": [
    "import plotly.express as px"
   ]
  },
  {
   "cell_type": "code",
   "execution_count": null,
   "id": "01918f75",
   "metadata": {},
   "outputs": [],
   "source": [
    "grouped_0 = grouped_df[grouped_df[\"Cluster\"] == 0]\n",
    "grouped_1 = grouped_df[grouped_df[\"Cluster\"] == 1]\n",
    "grouped_2 = grouped_df[grouped_df[\"Cluster\"] == 2]\n",
    "grouped_3 = grouped_df[grouped_df[\"Cluster\"] == 3]"
   ]
  },
  {
   "cell_type": "code",
   "execution_count": null,
   "id": "97cf7462",
   "metadata": {},
   "outputs": [],
   "source": [
    "grouped_df"
   ]
  },
  {
   "cell_type": "code",
   "execution_count": null,
   "id": "795bdc97",
   "metadata": {},
   "outputs": [],
   "source": [
    "# 특정 클러스터 지정\n",
    "target_cluster = 0\n",
    "\n",
    "# 컬러맵 설정\n",
    "grouped_df['Color'] = grouped_df['Cluster'].apply(lambda x: target_cluster if x == target_cluster else 'Other')\n",
    "\n",
    "# 색상 매핑 설정\n",
    "color_discrete_map = {\n",
    "    target_cluster: 'rgba(255, 0, 0, 0.8)',  # 클러스터 색상\n",
    "    'Other': 'rgba(169, 169, 169, 1)'  # 투명 회색\n",
    "}\n",
    "\n",
    "# 지도 그리기\n",
    "fig_0 = px.choropleth_mapbox(grouped_df,\n",
    "                             geojson=geo_data,\n",
    "                             locations='FULL_DONG_NAME',\n",
    "                             color='Color',\n",
    "                             color_discrete_map=color_discrete_map,\n",
    "                             featureidkey='properties.adm_nm',\n",
    "                             mapbox_style='carto-positron',\n",
    "                             zoom=10,\n",
    "                             center={\"lat\": 37.563383, \"lon\": 126.996039},\n",
    "                             opacity=0.5\n",
    "                            )\n",
    "\n",
    "fig_0.show()"
   ]
  },
  {
   "cell_type": "code",
   "execution_count": null,
   "id": "551c11f6",
   "metadata": {},
   "outputs": [],
   "source": [
    "# 특정 클러스터 지정\n",
    "target_cluster = 1\n",
    "\n",
    "# 컬러맵 설정\n",
    "grouped_df['Color'] = grouped_df['Cluster'].apply(lambda x: target_cluster if x == target_cluster else 'Other')\n",
    "\n",
    "# 색상 매핑 설정\n",
    "color_discrete_map = {\n",
    "    target_cluster: 'rgba(255, 0, 0, 0.8)',  # 클러스터 색상\n",
    "    'Other': 'rgba(169, 169, 169, 1)'  # 투명 회색\n",
    "}\n",
    "\n",
    "# 지도 그리기\n",
    "fig_1 = px.choropleth_mapbox(grouped_df,\n",
    "                             geojson=geo_data,\n",
    "                             locations='FULL_DONG_NAME',\n",
    "                             color='Color',\n",
    "                             color_discrete_map=color_discrete_map,\n",
    "                             featureidkey='properties.adm_nm',\n",
    "                             mapbox_style='carto-positron',\n",
    "                             zoom=10,\n",
    "                             center={\"lat\": 37.563383, \"lon\": 126.996039},\n",
    "                             opacity=0.5\n",
    "                            )\n",
    "\n",
    "fig_1.show()"
   ]
  },
  {
   "cell_type": "code",
   "execution_count": null,
   "id": "d9f473a9",
   "metadata": {},
   "outputs": [],
   "source": [
    "# 특정 클러스터 지정\n",
    "target_cluster = 2\n",
    "\n",
    "# 컬러맵 설정\n",
    "grouped_df['Color'] = grouped_df['Cluster'].apply(lambda x: target_cluster if x == target_cluster else 'Other')\n",
    "\n",
    "# 색상 매핑 설정\n",
    "color_discrete_map = {\n",
    "    target_cluster: 'rgba(255, 0, 0, 0.8)',  # 클러스터 색상\n",
    "    'Other': 'rgba(169, 169, 169, 1)'  # 투명 회색\n",
    "}\n",
    "\n",
    "# 지도 그리기\n",
    "fig_2 = px.choropleth_mapbox(grouped_df,\n",
    "                             geojson=geo_data,\n",
    "                             locations='FULL_DONG_NAME',\n",
    "                             color='Color',\n",
    "                             color_discrete_map=color_discrete_map,\n",
    "                             featureidkey='properties.adm_nm',\n",
    "                             mapbox_style='carto-positron',\n",
    "                             zoom=10,\n",
    "                             center={\"lat\": 37.563383, \"lon\": 126.996039},\n",
    "                             opacity=0.5\n",
    "                            )\n",
    "\n",
    "fig_2.show()"
   ]
  },
  {
   "cell_type": "code",
   "execution_count": null,
   "id": "f3b9ebc5",
   "metadata": {},
   "outputs": [],
   "source": [
    "# 특정 클러스터 지정\n",
    "target_cluster = 3\n",
    "\n",
    "# 컬러맵 설정\n",
    "grouped_df['Color'] = grouped_df['Cluster'].apply(lambda x: target_cluster if x == target_cluster else 'Other')\n",
    "\n",
    "# 색상 매핑 설정\n",
    "color_discrete_map = {\n",
    "    target_cluster: 'rgba(255, 0, 0, 0.8)',  # 클러스터 색상\n",
    "    'Other': 'rgba(169, 169, 169, 1)'  # 투명 회색\n",
    "}\n",
    "\n",
    "# 지도 그리기\n",
    "fig_3 = px.choropleth_mapbox(grouped_df,\n",
    "                             geojson=geo_data,\n",
    "                             locations='FULL_DONG_NAME',\n",
    "                             color='Color',\n",
    "                             color_discrete_map=color_discrete_map,\n",
    "                             featureidkey='properties.adm_nm',\n",
    "                             mapbox_style='carto-positron',\n",
    "                             zoom=10,\n",
    "                             center={\"lat\": 37.563383, \"lon\": 126.996039},\n",
    "                             opacity=0.5\n",
    "                            )\n",
    "\n",
    "fig_3.show()"
   ]
  },
  {
   "cell_type": "code",
   "execution_count": null,
   "id": "ee91baf5",
   "metadata": {},
   "outputs": [],
   "source": [
    "fig = px.choropleth_mapbox(grouped_df,\n",
    "                           geojson=geo_data,\n",
    "                           locations='FULL_DONG_NAME',\n",
    "                           color='Cluster',\n",
    "                           color_continuous_scale='viridis', featureidkey = 'properties.adm_nm',\n",
    "                           mapbox_style='carto-positron',\n",
    "                           zoom=10,\n",
    "                           center = {\"lat\": 37.563383, \"lon\": 126.996039},\n",
    "                           opacity=0.5\n",
    "                          )\n",
    "\n",
    "fig"
   ]
  },
  {
   "cell_type": "code",
   "execution_count": null,
   "id": "b05b2b4d",
   "metadata": {},
   "outputs": [],
   "source": [
    "fig.update_layout(margin={\"r\":0,\"t\":0,\"l\":0,\"b\":0})"
   ]
  },
  {
   "cell_type": "markdown",
   "id": "719ec54b",
   "metadata": {},
   "source": [
    "## 클러스터별 특징 파악"
   ]
  },
  {
   "cell_type": "code",
   "execution_count": null,
   "id": "94679747",
   "metadata": {},
   "outputs": [],
   "source": [
    "grouped_df.to_csv(\"/Users/sunjaelee/Library/CloudStorage/Dropbox/교과/다차원자료분석PBL/기말고사/데이터/grouped.csv\", index = False, encoding = 'utf-8-sig')"
   ]
  },
  {
   "cell_type": "code",
   "execution_count": null,
   "id": "c651128b",
   "metadata": {},
   "outputs": [],
   "source": []
  }
 ],
 "metadata": {
  "kernelspec": {
   "display_name": "Python 3 (ipykernel)",
   "language": "python",
   "name": "python3"
  },
  "language_info": {
   "codemirror_mode": {
    "name": "ipython",
    "version": 3
   },
   "file_extension": ".py",
   "mimetype": "text/x-python",
   "name": "python",
   "nbconvert_exporter": "python",
   "pygments_lexer": "ipython3",
   "version": "3.12.10"
  },
  "toc": {
   "base_numbering": 1,
   "nav_menu": {},
   "number_sections": true,
   "sideBar": true,
   "skip_h1_title": false,
   "title_cell": "Table of Contents",
   "title_sidebar": "Contents",
   "toc_cell": false,
   "toc_position": {
    "height": "calc(100% - 180px)",
    "left": "10px",
    "top": "150px",
    "width": "358.375px"
   },
   "toc_section_display": true,
   "toc_window_display": true
  }
 },
 "nbformat": 4,
 "nbformat_minor": 5
}
