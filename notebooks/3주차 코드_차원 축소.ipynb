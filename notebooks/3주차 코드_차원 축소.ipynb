{
 "cells": [
  {
   "cell_type": "markdown",
   "id": "d99aacc1",
   "metadata": {},
   "source": [
    "모듈 다운로드"
   ]
  },
  {
   "cell_type": "code",
   "execution_count": null,
   "id": "d70b575c",
   "metadata": {},
   "outputs": [],
   "source": [
    "import pandas as pd   "
   ]
  },
  {
   "cell_type": "code",
   "execution_count": null,
   "id": "f8e0b58e",
   "metadata": {},
   "outputs": [],
   "source": [
    "import matplotlib.pyplot as plt"
   ]
  },
  {
   "cell_type": "code",
   "execution_count": null,
   "id": "9de94115",
   "metadata": {},
   "outputs": [],
   "source": [
    "import numpy as np"
   ]
  },
  {
   "cell_type": "code",
   "execution_count": null,
   "id": "a22dcb73",
   "metadata": {},
   "outputs": [],
   "source": [
    "import seaborn as sns"
   ]
  },
  {
   "cell_type": "code",
   "execution_count": null,
   "id": "f23c92b0",
   "metadata": {},
   "outputs": [],
   "source": [
    "from sklearn.decomposition import PCA"
   ]
  },
  {
   "cell_type": "code",
   "execution_count": null,
   "id": "f7b088e2",
   "metadata": {},
   "outputs": [],
   "source": [
    "from sklearn.preprocessing import StandardScaler"
   ]
  },
  {
   "cell_type": "code",
   "execution_count": null,
   "id": "8802882b",
   "metadata": {},
   "outputs": [],
   "source": [
    "from sklearn.decomposition import FactorAnalysis"
   ]
  },
  {
   "cell_type": "code",
   "execution_count": null,
   "id": "2bfb0e0e",
   "metadata": {},
   "outputs": [],
   "source": [
    "from statsmodels.stats.outliers_influence import variance_inflation_factor\n",
    "from statsmodels.tools.tools import add_constant"
   ]
  },
  {
   "cell_type": "code",
   "execution_count": null,
   "id": "6e11b1e7",
   "metadata": {},
   "outputs": [],
   "source": [
    "!pip install plotly pandas"
   ]
  },
  {
   "cell_type": "code",
   "execution_count": null,
   "id": "ce5368f0",
   "metadata": {},
   "outputs": [],
   "source": [
    "import plotly.express as px"
   ]
  },
  {
   "cell_type": "code",
   "execution_count": null,
   "id": "330b2316",
   "metadata": {},
   "outputs": [],
   "source": [
    "!pip install kaleido"
   ]
  },
  {
   "cell_type": "markdown",
   "id": "37004d27",
   "metadata": {},
   "source": [
    "# 교수님 피드백"
   ]
  },
  {
   "cell_type": "markdown",
   "id": "d2e6d840",
   "metadata": {},
   "source": [
    "## 데이터 불러오기(이상치 제거된 데이터)"
   ]
  },
  {
   "cell_type": "code",
   "execution_count": null,
   "id": "ed1aa18c",
   "metadata": {},
   "outputs": [],
   "source": [
    "path = \"C:/Users/leese/Downloads/data_outlier_eliminated_csv.csv\""
   ]
  },
  {
   "cell_type": "code",
   "execution_count": null,
   "id": "1a6f09a0",
   "metadata": {},
   "outputs": [],
   "source": [
    "data = pd.read_csv(path)"
   ]
  },
  {
   "cell_type": "code",
   "execution_count": null,
   "id": "ab9cc846",
   "metadata": {},
   "outputs": [],
   "source": [
    "data.columns"
   ]
  },
  {
   "cell_type": "markdown",
   "id": "19568c6f",
   "metadata": {},
   "source": [
    "## 헥사곤 플롯"
   ]
  },
  {
   "cell_type": "code",
   "execution_count": null,
   "id": "bf6fd6d3",
   "metadata": {},
   "outputs": [],
   "source": [
    "x = data[\"TOTAL_WORKER\"]\n",
    "y = data[\"PRICE\"]\n",
    "   \n",
    "plt.hexbin(x, y, gridsize = 30, cmap = 'Blues')\n",
    "plt.colorbar(label = 'count')\n",
    "plt.xlabel(\"Total Worker\")\n",
    "plt.ylabel(\"Price\")\n",
    "plt.savefig('hexagon_totalworker_price.png', dpi = 300)\n",
    "plt.show()\n"
   ]
  },
  {
   "cell_type": "code",
   "execution_count": null,
   "id": "4f086aa1",
   "metadata": {},
   "outputs": [],
   "source": [
    "x = data[\"BUILDING\"]\n",
    "y = data[\"TOTAL_POP\"]\n",
    "\n",
    "plt.hexbin(x, y, gridsize = 30, cmap = 'Blues')\n",
    "plt.colorbar(label = 'count')\n",
    "plt.xlabel(\"Building\")\n",
    "plt.ylabel(\"Total_Pop\")\n",
    "plt.savefig('hexagon_building_total_pop.png', dpi = 300)\n",
    "plt.show()"
   ]
  },
  {
   "cell_type": "markdown",
   "id": "e821d236",
   "metadata": {},
   "source": [
    "## 전체 상관행렬"
   ]
  },
  {
   "cell_type": "code",
   "execution_count": null,
   "id": "a90c1992",
   "metadata": {
    "scrolled": true
   },
   "outputs": [],
   "source": [
    "selected_columns = ['PRICE',\n",
    "                   'TOTAL_POP', 'OLD_IDX', 'WORKABLE_POP', 'HOUSEHOLD_N',\n",
    "                   'TOTAL_BUISNESS', 'TOTAL_WORKER',\n",
    "                   'BUILDING', 'HOUSE', 'OLD_BUILDING', 'OLD_HOUSE', 'BUILDING_DENSITY', 'BUILDING_COMPLEXITY',\n",
    "                   'BIGROAD_N', 'BIGROAD_EFFECT', 'ROAD_N', 'ROAD_EFFECT', 'BUS_N', 'BUS_EFFECT',\n",
    "                   'ELEMENT_EFFECT', 'MIDDLE_EFFECT', 'HIGH_EFFECT', 'ACADEMY', 'HOSPITAL', 'BANK', 'MART_DEPARTMENT', 'SECURITY', 'CONVENIENT',\n",
    "                   'CREMATORIUM_EFFECT', 'COLUMBARIUM_EFFECT', 'WASTE_EFFECT']\n",
    "selected_data = data[selected_columns]\n",
    "\n",
    "# 상관 행렬 계산\n",
    "corr_matrix = selected_data.corr()\n",
    "\n",
    "# 상관 행렬 시각화\n",
    "plt.figure(figsize=(10, 8))\n",
    "sns.heatmap(corr_matrix, annot=True, cmap='coolwarm', vmin=-1, vmax=1)\n",
    "plt.title('Correlation Matrix of Selected Variables')\n",
    "plt.savefig('heatmap.png', dpi = 300)\n",
    "plt.show()"
   ]
  },
  {
   "cell_type": "markdown",
   "id": "a66658e5",
   "metadata": {},
   "source": [
    "# 변수 개수 줄이기"
   ]
  },
  {
   "cell_type": "markdown",
   "id": "e35f6ada",
   "metadata": {},
   "source": [
    "## 유해시설 변수 = 봉안시설, 화장시설, 폐기물시설 평균"
   ]
  },
  {
   "cell_type": "code",
   "execution_count": null,
   "id": "92452d5c",
   "metadata": {},
   "outputs": [],
   "source": [
    "new_data = pd.read_csv(path)"
   ]
  },
  {
   "cell_type": "code",
   "execution_count": null,
   "id": "30fb2ca4",
   "metadata": {},
   "outputs": [],
   "source": [
    "new_data[\"HARMFUL_FACILITY_EFFECT\"] = (new_data[\"CREMATORIUM_EFFECT\"] + new_data[\"COLUMBARIUM_EFFECT\"] + new_data[\"WASTE_EFFECT\"]) / 3"
   ]
  },
  {
   "cell_type": "code",
   "execution_count": null,
   "id": "6635d333",
   "metadata": {
    "scrolled": true
   },
   "outputs": [],
   "source": [
    "fig = px.histogram(new_data, x='HARMFUL_FACILITY_EFFECT', nbins=500, title='Histogram')\n",
    "fig.show()"
   ]
  },
  {
   "cell_type": "markdown",
   "id": "f32df3d2",
   "metadata": {},
   "source": [
    "## 학교 변수 = 초등학교, 중학교, 고등학교 평균"
   ]
  },
  {
   "cell_type": "code",
   "execution_count": null,
   "id": "a6d41ce2",
   "metadata": {},
   "outputs": [],
   "source": [
    "new_data[\"EDUCATION_EFFECT\"] = (new_data[\"ELEMENT_EFFECT\"] + new_data[\"MIDDLE_EFFECT\"] + new_data[\"HIGH_EFFECT\"]) / 3"
   ]
  },
  {
   "cell_type": "code",
   "execution_count": null,
   "id": "3c713060",
   "metadata": {},
   "outputs": [],
   "source": [
    "fig = px.histogram(new_data, x='EDUCATION_EFFECT', nbins=500, title='Histogram')\n",
    "fig.show()"
   ]
  },
  {
   "cell_type": "markdown",
   "id": "699560a1",
   "metadata": {},
   "source": [
    "# 주성분분석"
   ]
  },
  {
   "cell_type": "code",
   "execution_count": null,
   "id": "57dd1b48",
   "metadata": {},
   "outputs": [],
   "source": [
    "data.columns"
   ]
  },
  {
   "cell_type": "code",
   "execution_count": null,
   "id": "dec981ea",
   "metadata": {},
   "outputs": [],
   "source": [
    "selected_columns = ['TOTAL_POP', 'OLD_IDX', 'WORKABLE_POP',\n",
    "       'HOUSEHOLD_N', 'TOTAL_BUISNESS', 'TOTAL_WORKER', 'BUILDING', 'HOUSE',\n",
    "       'OLD_BUILDING', 'OLD_HOUSE', 'BUILDING_DENSITY', 'BUILDING_COMPLEXITY',\n",
    "       'BIGROAD_N', 'BIGROAD_EFFECT', 'ROAD_N', 'ROAD_EFFECT', 'BUS_N',\n",
    "       'BUS_EFFECT', 'ELEMENT_EFFECT', 'MIDDLE_EFFECT', 'HIGH_EFFECT',\n",
    "       'ACADEMY', 'HOSPITAL', 'BANK', 'MART_DEPARTMENT', 'SECURITY',\n",
    "       'CONVENIENT', 'CREMATORIUM_EFFECT', 'COLUMBARIUM_EFFECT',\n",
    "       'WASTE_EFFECT']"
   ]
  },
  {
   "cell_type": "code",
   "execution_count": null,
   "id": "f034385f",
   "metadata": {},
   "outputs": [],
   "source": [
    "selected_data = data[selected_columns]"
   ]
  },
  {
   "cell_type": "code",
   "execution_count": null,
   "id": "6b1fa033",
   "metadata": {},
   "outputs": [],
   "source": [
    "scaler = StandardScaler()\n",
    "scaled_data = scaler.fit_transform(selected_data)"
   ]
  },
  {
   "cell_type": "code",
   "execution_count": null,
   "id": "302ac763",
   "metadata": {},
   "outputs": [],
   "source": [
    "pca = PCA(n_components = 10)\n",
    "pca_result = pca.fit_transform(scaled_data)"
   ]
  },
  {
   "cell_type": "code",
   "execution_count": null,
   "id": "71c0e6cf",
   "metadata": {},
   "outputs": [],
   "source": [
    "explained_variance = pca.explained_variance_ratio_\n",
    "eigenvalues = pca.explained_variance_\n",
    "print('Explained variance ratio by each component:', explained_variance)\n",
    "print('Eigenvalues (Variance) for each component:', eigenvalues)"
   ]
  },
  {
   "cell_type": "code",
   "execution_count": null,
   "id": "d32bbd74",
   "metadata": {},
   "outputs": [],
   "source": [
    "plt.figure(figsize=(8, 5))\n",
    "plt.plot(range(1, len(pca.explained_variance_ratio_) + 1), np.cumsum(pca.explained_variance_ratio_), marker='o')\n",
    "plt.xlabel('Number of Components')\n",
    "plt.ylabel('Cumulative Explained Variance')\n",
    "plt.title('PCA Explained Variance')\n",
    "plt.grid(True)\n",
    "plt.xticks(range(1, len(pca.explained_variance_ratio_) + 1))\n",
    "plt.savefig('pca_var.png', dpi = 300)\n",
    "plt.show()"
   ]
  },
  {
   "cell_type": "code",
   "execution_count": null,
   "id": "910d8e08",
   "metadata": {},
   "outputs": [],
   "source": [
    "# Scree plot 그리기\n",
    "plt.figure(figsize=(8, 5))\n",
    "plt.plot(range(1, len(eigenvalues) + 1), eigenvalues, marker='o', linestyle='--')\n",
    "plt.xlabel('Principal Component')\n",
    "plt.ylabel('Eigenvalue')\n",
    "plt.title('Scree Plot')\n",
    "plt.grid(True)\n",
    "plt.show()"
   ]
  },
  {
   "cell_type": "code",
   "execution_count": null,
   "id": "379b19f6",
   "metadata": {},
   "outputs": [],
   "source": [
    "loadings = pd.DataFrame(pca.components_.T, columns=[f'PC{i+1}' for i in range(pca.n_components_)], index=selected_columns)\n",
    "print(loadings)"
   ]
  },
  {
   "cell_type": "code",
   "execution_count": null,
   "id": "637b794f",
   "metadata": {},
   "outputs": [],
   "source": [
    "plt.figure(figsize=(10, 8))\n",
    "sns.heatmap(loadings, annot=True, cmap='coolwarm', center=0)\n",
    "plt.title('PCA Loadings Heatmap')\n",
    "plt.show()"
   ]
  },
  {
   "cell_type": "markdown",
   "id": "8f1e41d5",
   "metadata": {},
   "source": [
    "# 인자분석"
   ]
  },
  {
   "cell_type": "code",
   "execution_count": null,
   "id": "c0f0d303",
   "metadata": {},
   "outputs": [],
   "source": [
    "fa = FactorAnalysis(n_components=4, random_state=0)  # 원하는 인자 수 선택\n",
    "fa_result = fa.fit_transform(scaled_data)"
   ]
  },
  {
   "cell_type": "code",
   "execution_count": null,
   "id": "f81162f6",
   "metadata": {},
   "outputs": [],
   "source": [
    "factor_loadings = pd.DataFrame(fa.components_.T, columns=[f'Factor{i+1}' for i in range(fa.components_.shape[0])], index=selected_columns)\n"
   ]
  },
  {
   "cell_type": "code",
   "execution_count": null,
   "id": "f6bbb00e",
   "metadata": {},
   "outputs": [],
   "source": [
    "plt.figure(figsize=(12, 10))\n",
    "sns.heatmap(factor_loadings, annot=True, cmap='coolwarm', center=0, annot_kws={\"size\": 10}, fmt=\".2f\")\n",
    "plt.xticks(rotation=45, ha='right', size=12)\n",
    "plt.yticks(size=12)\n",
    "plt.title('Factor Analysis Loadings Heatmap', size=15)\n",
    "plt.savefig('fa_result.png', dpi = 300)\n",
    "plt.show()"
   ]
  },
  {
   "cell_type": "markdown",
   "id": "9329c046",
   "metadata": {},
   "source": [
    "# 다중공선성 확인 및 해결"
   ]
  },
  {
   "cell_type": "code",
   "execution_count": null,
   "id": "edd5dd76",
   "metadata": {},
   "outputs": [],
   "source": [
    "selected_columns = ['TOTAL_POP', 'OLD_IDX', 'WORKABLE_POP',\n",
    "       'HOUSEHOLD_N', 'TOTAL_BUISNESS', 'TOTAL_WORKER', 'BUILDING', 'HOUSE',\n",
    "       'OLD_BUILDING', 'OLD_HOUSE', 'BUILDING_DENSITY', 'BUILDING_COMPLEXITY',\n",
    "       'BIGROAD_N', 'BIGROAD_EFFECT', 'ROAD_N', 'ROAD_EFFECT', 'BUS_N',\n",
    "       'BUS_EFFECT', 'ELEMENT_EFFECT', 'MIDDLE_EFFECT', 'HIGH_EFFECT',\n",
    "       'ACADEMY', 'HOSPITAL', 'BANK', 'MART_DEPARTMENT', 'SECURITY',\n",
    "       'CONVENIENT', 'CREMATORIUM_EFFECT', 'COLUMBARIUM_EFFECT',\n",
    "       'WASTE_EFFECT']"
   ]
  },
  {
   "cell_type": "code",
   "execution_count": null,
   "id": "9ab02c3e",
   "metadata": {},
   "outputs": [],
   "source": [
    "X = add_constant(data[selected_columns])\n",
    "\n",
    "# VIF 계산\n",
    "vif_data = pd.DataFrame()\n",
    "vif_data['feature'] = X.columns\n",
    "vif_data['VIF'] = [variance_inflation_factor(X.values, i) for i in range(X.shape[1])]\n",
    "\n",
    "print(vif_data)"
   ]
  },
  {
   "cell_type": "code",
   "execution_count": null,
   "id": "ef5e1dc3",
   "metadata": {},
   "outputs": [],
   "source": [
    "# VIF 값이 10 이상인 항목 필터링\n",
    "high_vif = vif_data[vif_data['VIF'] > 7]\n",
    "high_vif.drop(index = 0, inplace = True)\n",
    "\n",
    "# 시각화\n",
    "plt.figure(figsize=(10, 6))\n",
    "sns.barplot(x='VIF', y='feature', data=high_vif, palette='coolwarm')\n",
    "plt.title('High Variance Inflation Factors (VIF)')\n",
    "plt.xlabel('Variance Inflation Factor')\n",
    "plt.ylabel('Features')\n",
    "plt.grid(True)\n",
    "plt.savefig('high_vif.png', dpi = 300)\n",
    "plt.show()"
   ]
  },
  {
   "cell_type": "markdown",
   "id": "1ca33444",
   "metadata": {},
   "source": [
    "## 인구관련 변수 주성분분석을 통해 묶기"
   ]
  },
  {
   "cell_type": "code",
   "execution_count": null,
   "id": "82be747d",
   "metadata": {},
   "outputs": [],
   "source": [
    "selected = [\"TOTAL_POP\", \"WORKABLE_POP\", \"HOUSEHOLD_N\"]"
   ]
  },
  {
   "cell_type": "code",
   "execution_count": null,
   "id": "f2b1d094",
   "metadata": {},
   "outputs": [],
   "source": [
    "selected_data = data[selected]"
   ]
  },
  {
   "cell_type": "code",
   "execution_count": null,
   "id": "e0866363",
   "metadata": {},
   "outputs": [],
   "source": [
    "scaler = StandardScaler()\n",
    "scaled_data = scaler.fit_transform(selected_data)"
   ]
  },
  {
   "cell_type": "code",
   "execution_count": null,
   "id": "c751f9c9",
   "metadata": {},
   "outputs": [],
   "source": [
    "pca = PCA(n_components = 3)\n",
    "pca_result = pca.fit_transform(scaled_data)"
   ]
  },
  {
   "cell_type": "code",
   "execution_count": null,
   "id": "ee8ff829",
   "metadata": {},
   "outputs": [],
   "source": [
    "loadings = pd.DataFrame(pca.components_.T, columns=[f'PC{i+1}' for i in range(pca.n_components_)], index=selected)"
   ]
  },
  {
   "cell_type": "code",
   "execution_count": null,
   "id": "3dbc87e8",
   "metadata": {},
   "outputs": [],
   "source": [
    "plt.figure(figsize=(10, 8))\n",
    "sns.heatmap(loadings, annot=True, cmap='coolwarm', center=0)\n",
    "plt.title('PCA Loadings Heatmap')\n",
    "plt.show()"
   ]
  },
  {
   "cell_type": "code",
   "execution_count": null,
   "id": "05e7c8ec",
   "metadata": {},
   "outputs": [],
   "source": [
    "explained_variance = pca.explained_variance_ratio_\n",
    "eigenvalues = pca.explained_variance_\n",
    "print('Explained variance ratio by each component:', explained_variance)\n",
    "print('Eigenvalues (Variance) for each component:', eigenvalues)"
   ]
  },
  {
   "cell_type": "code",
   "execution_count": null,
   "id": "95d398a3",
   "metadata": {},
   "outputs": [],
   "source": [
    "plt.figure(figsize=(8, 5))\n",
    "plt.plot(range(1, len(pca.explained_variance_ratio_) + 1), np.cumsum(pca.explained_variance_ratio_), marker='o')\n",
    "plt.xlabel('Number of Components')\n",
    "plt.ylabel('Cumulative Explained Variance')\n",
    "plt.title('PCA Explained Variance')\n",
    "plt.grid(True)\n",
    "plt.xticks(range(1, len(pca.explained_variance_ratio_) + 1))\n",
    "plt.show()"
   ]
  },
  {
   "cell_type": "code",
   "execution_count": null,
   "id": "2b2b1f4f",
   "metadata": {},
   "outputs": [],
   "source": [
    "new_data[\"POP_PCA_SCORE\"] = pca_result[:, 0]"
   ]
  },
  {
   "cell_type": "code",
   "execution_count": null,
   "id": "655e0c11",
   "metadata": {},
   "outputs": [],
   "source": [
    "new_data"
   ]
  },
  {
   "cell_type": "markdown",
   "id": "473f1b00",
   "metadata": {},
   "source": [
    "## 경제활동 관련 변수 하나로 묶기"
   ]
  },
  {
   "cell_type": "code",
   "execution_count": null,
   "id": "7d9f7b98",
   "metadata": {},
   "outputs": [],
   "source": [
    "selected = [\"TOTAL_BUISNESS\", \"TOTAL_WORKER\"]"
   ]
  },
  {
   "cell_type": "code",
   "execution_count": null,
   "id": "e00e3e87",
   "metadata": {},
   "outputs": [],
   "source": [
    "selected_data = data[selected]"
   ]
  },
  {
   "cell_type": "code",
   "execution_count": null,
   "id": "9b1a0cd7",
   "metadata": {},
   "outputs": [],
   "source": [
    "scaler = StandardScaler()\n",
    "scaled_data = scaler.fit_transform(selected_data)"
   ]
  },
  {
   "cell_type": "code",
   "execution_count": null,
   "id": "75ab6202",
   "metadata": {},
   "outputs": [],
   "source": [
    "pca = PCA(n_components = 2)\n",
    "pca_result = pca.fit_transform(scaled_data)"
   ]
  },
  {
   "cell_type": "code",
   "execution_count": null,
   "id": "b7b84a4c",
   "metadata": {},
   "outputs": [],
   "source": [
    "loadings = pd.DataFrame(pca.components_.T, columns=[f'PC{i+1}' for i in range(pca.n_components_)], index=selected)"
   ]
  },
  {
   "cell_type": "code",
   "execution_count": null,
   "id": "53120410",
   "metadata": {},
   "outputs": [],
   "source": [
    "plt.figure(figsize=(10, 8))\n",
    "sns.heatmap(loadings, annot=True, cmap='coolwarm', center=0)\n",
    "plt.title('PCA Loadings Heatmap')\n",
    "plt.show()"
   ]
  },
  {
   "cell_type": "code",
   "execution_count": null,
   "id": "d358d151",
   "metadata": {},
   "outputs": [],
   "source": [
    "explained_variance = pca.explained_variance_ratio_\n",
    "eigenvalues = pca.explained_variance_\n",
    "print('Explained variance ratio by each component:', explained_variance)\n",
    "print('Eigenvalues (Variance) for each component:', eigenvalues)"
   ]
  },
  {
   "cell_type": "code",
   "execution_count": null,
   "id": "9ddefd55",
   "metadata": {},
   "outputs": [],
   "source": [
    "plt.figure(figsize=(8, 5))\n",
    "plt.plot(range(1, len(pca.explained_variance_ratio_) + 1), np.cumsum(pca.explained_variance_ratio_), marker='o')\n",
    "plt.xlabel('Number of Components')\n",
    "plt.ylabel('Cumulative Explained Variance')\n",
    "plt.title('PCA Explained Variance')\n",
    "plt.grid(True)\n",
    "plt.xticks(range(1, len(pca.explained_variance_ratio_) + 1))\n",
    "plt.show()"
   ]
  },
  {
   "cell_type": "code",
   "execution_count": null,
   "id": "55810763",
   "metadata": {},
   "outputs": [],
   "source": [
    "new_data[\"ECONOMY_PCA_SCORE\"] = pca_result[:, 0]"
   ]
  },
  {
   "cell_type": "code",
   "execution_count": null,
   "id": "f50d0902",
   "metadata": {},
   "outputs": [],
   "source": [
    "new_data"
   ]
  },
  {
   "cell_type": "markdown",
   "id": "9bca3ecd",
   "metadata": {},
   "source": [
    "## 건물 관련 변수 하나로 묶기"
   ]
  },
  {
   "cell_type": "code",
   "execution_count": null,
   "id": "d52b2668",
   "metadata": {},
   "outputs": [],
   "source": [
    "selected = [\"BUILDING\", \"HOUSE\", \"OLD_BUILDING\", \"OLD_HOUSE\"]"
   ]
  },
  {
   "cell_type": "code",
   "execution_count": null,
   "id": "76bce14d",
   "metadata": {},
   "outputs": [],
   "source": [
    "selected_data = data[selected]"
   ]
  },
  {
   "cell_type": "code",
   "execution_count": null,
   "id": "00b333cf",
   "metadata": {},
   "outputs": [],
   "source": [
    "scaler = StandardScaler()\n",
    "scaled_data = scaler.fit_transform(selected_data)"
   ]
  },
  {
   "cell_type": "code",
   "execution_count": null,
   "id": "3442febe",
   "metadata": {},
   "outputs": [],
   "source": [
    "pca = PCA(n_components = 4)\n",
    "pca_result = pca.fit_transform(scaled_data)"
   ]
  },
  {
   "cell_type": "code",
   "execution_count": null,
   "id": "739eb764",
   "metadata": {},
   "outputs": [],
   "source": [
    "loadings = pd.DataFrame(pca.components_.T, columns=[f'PC{i+1}' for i in range(pca.n_components_)], index=selected)"
   ]
  },
  {
   "cell_type": "code",
   "execution_count": null,
   "id": "35d8d10b",
   "metadata": {},
   "outputs": [],
   "source": [
    "plt.figure(figsize=(10, 8))\n",
    "sns.heatmap(loadings, annot=True, cmap='coolwarm', center=0)\n",
    "plt.title('PCA Loadings Heatmap')\n",
    "plt.show()"
   ]
  },
  {
   "cell_type": "code",
   "execution_count": null,
   "id": "a73852f3",
   "metadata": {},
   "outputs": [],
   "source": [
    "plt.figure(figsize=(8, 5))\n",
    "plt.plot(range(1, len(pca.explained_variance_ratio_) + 1), np.cumsum(pca.explained_variance_ratio_), marker='o')\n",
    "plt.xlabel('Number of Components')\n",
    "plt.ylabel('Cumulative Explained Variance')\n",
    "plt.title('PCA Explained Variance')\n",
    "plt.grid(True)\n",
    "plt.xticks(range(1, len(pca.explained_variance_ratio_) + 1))\n",
    "plt.show()"
   ]
  },
  {
   "cell_type": "code",
   "execution_count": null,
   "id": "84c049f3",
   "metadata": {},
   "outputs": [],
   "source": [
    "explained_variance = pca.explained_variance_ratio_\n",
    "eigenvalues = pca.explained_variance_\n",
    "print('Explained variance ratio by each component:', explained_variance)\n",
    "print('Eigenvalues (Variance) for each component:', eigenvalues)"
   ]
  },
  {
   "cell_type": "code",
   "execution_count": null,
   "id": "a413917b",
   "metadata": {},
   "outputs": [],
   "source": [
    "new_data[\"BUILDING_PCA_SCORE\"] = pca_result[:, 0]"
   ]
  },
  {
   "cell_type": "code",
   "execution_count": null,
   "id": "85f4e4a1",
   "metadata": {},
   "outputs": [],
   "source": [
    "new_data"
   ]
  },
  {
   "cell_type": "markdown",
   "id": "4040b15a",
   "metadata": {},
   "source": [
    "# 최종 데이터 만들기"
   ]
  },
  {
   "cell_type": "code",
   "execution_count": null,
   "id": "de278658",
   "metadata": {},
   "outputs": [],
   "source": [
    "new_data.columns"
   ]
  },
  {
   "cell_type": "code",
   "execution_count": null,
   "id": "a6f456c6",
   "metadata": {},
   "outputs": [],
   "source": [
    "eliminate = [\"TOTAL_POP\", \"WORKABLE_POP\", \"HOUSEHOLD_N\", 'TOTAL_BUISNESS', 'TOTAL_WORKER', 'BUILDING', 'HOUSE',\n",
    "       'OLD_BUILDING', 'OLD_HOUSE', 'BUILDING_DENSITY', 'BUILDING_COMPLEXITY', 'ELEMENT_EFFECT', 'MIDDLE_EFFECT', 'HIGH_EFFECT',\n",
    "            'CREMATORIUM_EFFECT', 'COLUMBARIUM_EFFECT',\n",
    "       'WASTE_EFFECT', \"CONVENIENT\"]"
   ]
  },
  {
   "cell_type": "code",
   "execution_count": null,
   "id": "49871650",
   "metadata": {},
   "outputs": [],
   "source": [
    "final_data = new_data.drop(columns = eliminate)"
   ]
  },
  {
   "cell_type": "code",
   "execution_count": null,
   "id": "e0476742",
   "metadata": {},
   "outputs": [],
   "source": [
    "final_data.columns"
   ]
  },
  {
   "cell_type": "markdown",
   "id": "5cbaf475",
   "metadata": {},
   "source": [
    "## 다중공선성 확인"
   ]
  },
  {
   "cell_type": "code",
   "execution_count": null,
   "id": "240f87c4",
   "metadata": {},
   "outputs": [],
   "source": [
    "selected_columns = ['OLD_IDX', 'BIGROAD_N', 'BIGROAD_EFFECT',\n",
    "       'ROAD_N', 'ROAD_EFFECT', 'BUS_N', 'BUS_EFFECT', 'ACADEMY', 'HOSPITAL',\n",
    "       'BANK', 'MART_DEPARTMENT', 'SECURITY',\n",
    "       'HARMFUL_FACILITY_EFFECT', 'EDUCATION_EFFECT', 'POP_PCA_SCORE',\n",
    "       'ECONOMY_PCA_SCORE', 'BUILDING_PCA_SCORE']"
   ]
  },
  {
   "cell_type": "code",
   "execution_count": null,
   "id": "50709eb1",
   "metadata": {},
   "outputs": [],
   "source": [
    "X = add_constant(final_data[selected_columns])\n",
    "\n",
    "# VIF 계산\n",
    "vif_data = pd.DataFrame()\n",
    "vif_data['feature'] = X.columns\n",
    "vif_data['VIF'] = [variance_inflation_factor(X.values, i) for i in range(X.shape[1])]\n",
    "\n",
    "print(vif_data)"
   ]
  },
  {
   "cell_type": "code",
   "execution_count": null,
   "id": "11830613",
   "metadata": {},
   "outputs": [],
   "source": [
    "vif_data.drop(index = 0, inplace = True)\n",
    "\n",
    "# 시각화\n",
    "plt.figure(figsize=(10, 6))\n",
    "sns.barplot(x='VIF', y='feature', data=vif_data, palette='coolwarm')\n",
    "plt.title('Variance Inflation Factors (VIF)')\n",
    "plt.xlabel('Variance Inflation Factor')\n",
    "plt.ylabel('Features')\n",
    "plt.grid(True)\n",
    "plt.show()"
   ]
  },
  {
   "cell_type": "markdown",
   "id": "2f38ff33",
   "metadata": {},
   "source": [
    "## 상관행렬 확인"
   ]
  },
  {
   "cell_type": "code",
   "execution_count": null,
   "id": "b1047977",
   "metadata": {},
   "outputs": [],
   "source": [
    "final_data.columns"
   ]
  },
  {
   "cell_type": "code",
   "execution_count": null,
   "id": "2413fde4",
   "metadata": {},
   "outputs": [],
   "source": [
    "selected = ['OLD_IDX', 'BIGROAD_N', 'BIGROAD_EFFECT',\n",
    "       'ROAD_N', 'ROAD_EFFECT', 'BUS_N', 'BUS_EFFECT', 'ACADEMY', 'HOSPITAL',\n",
    "       'BANK', 'MART_DEPARTMENT', 'SECURITY', \n",
    "       'HARMFUL_FACILITY_EFFECT', 'EDUCATION_EFFECT', 'POP_PCA_SCORE',\n",
    "       'ECONOMY_PCA_SCORE', 'BUILDING_PCA_SCORE']"
   ]
  },
  {
   "cell_type": "code",
   "execution_count": null,
   "id": "cfd9eddb",
   "metadata": {},
   "outputs": [],
   "source": [
    "selected_data = final_data[selected]"
   ]
  },
  {
   "cell_type": "code",
   "execution_count": null,
   "id": "25f7e3ff",
   "metadata": {},
   "outputs": [],
   "source": [
    "# 상관 행렬 계산\n",
    "corr_matrix = selected_data.corr()\n",
    "\n",
    "# 상관 행렬 시각화\n",
    "plt.figure(figsize=(10, 8))\n",
    "sns.heatmap(corr_matrix, annot=True, cmap='coolwarm', vmin=-1, vmax=1)\n",
    "plt.title('Correlation Matrix of Selected Variables')\n",
    "plt.savefig('heatmap.png', dpi = 300)\n",
    "plt.show()"
   ]
  },
  {
   "cell_type": "code",
   "execution_count": null,
   "id": "a7e51fb8",
   "metadata": {},
   "outputs": [],
   "source": [
    "final_data.to_csv('C:/Users/leese/Downloads/final_data.csv', index = False, encoding = 'utf-8-sig')"
   ]
  },
  {
   "cell_type": "code",
   "execution_count": null,
   "id": "402ada35",
   "metadata": {},
   "outputs": [],
   "source": [
    "final_data"
   ]
  },
  {
   "cell_type": "code",
   "execution_count": null,
   "id": "9b715f45",
   "metadata": {},
   "outputs": [],
   "source": []
  }
 ],
 "metadata": {
  "kernelspec": {
   "display_name": "Python 3 (ipykernel)",
   "language": "python",
   "name": "python3"
  },
  "language_info": {
   "codemirror_mode": {
    "name": "ipython",
    "version": 3
   },
   "file_extension": ".py",
   "mimetype": "text/x-python",
   "name": "python",
   "nbconvert_exporter": "python",
   "pygments_lexer": "ipython3",
   "version": "3.12.10"
  },
  "toc": {
   "base_numbering": 1,
   "nav_menu": {},
   "number_sections": true,
   "sideBar": true,
   "skip_h1_title": false,
   "title_cell": "Table of Contents",
   "title_sidebar": "Contents",
   "toc_cell": false,
   "toc_position": {
    "height": "calc(100% - 180px)",
    "left": "10px",
    "top": "150px",
    "width": "226.974px"
   },
   "toc_section_display": true,
   "toc_window_display": true
  }
 },
 "nbformat": 4,
 "nbformat_minor": 5
}
